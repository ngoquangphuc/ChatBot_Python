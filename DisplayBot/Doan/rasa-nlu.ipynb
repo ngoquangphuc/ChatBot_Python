{
 "cells": [
  {
   "cell_type": "code",
   "execution_count": 1,
   "metadata": {},
   "outputs": [],
   "source": [
    "from rasa_nlu.training_data import load_data\n",
    "from rasa_nlu.model import Trainer\n",
    "from rasa_nlu import config\n",
    "from rasa_nlu.model import Interpreter"
   ]
  },
  {
   "cell_type": "code",
   "execution_count": 2,
   "metadata": {},
   "outputs": [],
   "source": [
    "def train_botneu(data_json, config_file, model_dir):\n",
    "    training_data = load_data(data_json)\n",
    "    trainer = Trainer(config.load(config_file))\n",
    "    trainer.train(training_data)\n",
    "    model_directory = trainer.persist(model_dir, fixed_model_name ='botneu')"
   ]
  },
  {
   "cell_type": "code",
   "execution_count": 3,
   "metadata": {},
   "outputs": [],
   "source": [
    "def predict_intent(text):\n",
    "    interpreter = Interpreter.load('./models/nlu/default/botneu')\n",
    "    print(interpreter.parse(text))"
   ]
  },
  {
   "cell_type": "code",
   "execution_count": 4,
   "metadata": {},
   "outputs": [
    {
     "name": "stderr",
     "output_type": "stream",
     "text": [
      "Epochs: 100%|█████████████████████████████████████████████████| 300/300 [00:04<00:00, 68.79it/s, loss=0.160, acc=1.000]\n"
     ]
    }
   ],
   "source": [
    "train_botneu('./data/data.json', 'config.json', './models/nlu')"
   ]
  },
  {
   "cell_type": "code",
   "execution_count": 5,
   "metadata": {},
   "outputs": [
    {
     "name": "stdout",
     "output_type": "stream",
     "text": [
      "INFO:tensorflow:Restoring parameters from ./models/nlu/default/botneu\\intent_classifier_tensorflow_embedding.ckpt\n",
      "{'intent': {'name': 'get_mo_ta', 'confidence': 0.9408087730407715}, 'entities': [{'start': 36, 'end': 53, 'value': 'Khoa hoc may tinh', 'entity': 'location', 'confidence': 0.9977444067611003, 'extractor': 'ner_crf'}], 'intent_ranking': [{'name': 'get_mo_ta', 'confidence': 0.9408087730407715}, {'name': 'get_ma', 'confidence': 0.14470268785953522}, {'name': 'get_hinh_thuc', 'confidence': 0.11622485518455505}, {'name': 'get_co_hoi', 'confidence': 0.10475650429725647}, {'name': 'get_song_song', 'confidence': 0.04788598418235779}, {'name': 'get_hoc_phi', 'confidence': 0.02849731780588627}, {'name': 'get_diem', 'confidence': 0.019534215331077576}, {'name': 'get_ty_le', 'confidence': 0.018175242468714714}, {'name': 'get_tuyen_thang', 'confidence': 0.012368734925985336}, {'name': 'get_khoa', 'confidence': 0.0}], 'text': 'Thong tin tuyen sinh nam 2019 nganh Khoa hoc may tinh'}\n"
     ]
    }
   ],
   "source": [
    "predict_intent(\"Thong tin tuyen sinh nam 2019 nganh Khoa hoc may tinh\")"
   ]
  },
  {
   "cell_type": "code",
   "execution_count": null,
   "metadata": {},
   "outputs": [],
   "source": []
  }
 ],
 "metadata": {
  "kernelspec": {
   "display_name": "Python 3",
   "language": "python",
   "name": "python3"
  },
  "language_info": {
   "codemirror_mode": {
    "name": "ipython",
    "version": 3
   },
   "file_extension": ".py",
   "mimetype": "text/x-python",
   "name": "python",
   "nbconvert_exporter": "python",
   "pygments_lexer": "ipython3",
   "version": "3.6.3"
  }
 },
 "nbformat": 4,
 "nbformat_minor": 2
}
